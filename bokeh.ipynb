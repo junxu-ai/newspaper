{
  "nbformat": 4,
  "nbformat_minor": 0,
  "metadata": {
    "colab": {
      "name": "bokeh.ipynb",
      "provenance": [],
      "collapsed_sections": [],
      "authorship_tag": "ABX9TyPMl+I5329yrnERtA7EGkZx",
      "include_colab_link": true
    },
    "kernelspec": {
      "name": "python3",
      "display_name": "Python 3"
    },
    "language_info": {
      "name": "python"
    }
  },
  "cells": [
    {
      "cell_type": "markdown",
      "metadata": {
        "id": "view-in-github",
        "colab_type": "text"
      },
      "source": [
        "<a href=\"https://colab.research.google.com/github/junxu-ai/newspaper/blob/master/bokeh.ipynb\" target=\"_parent\"><img src=\"https://colab.research.google.com/assets/colab-badge.svg\" alt=\"Open In Colab\"/></a>"
      ]
    },
    {
      "cell_type": "code",
      "source": [
        "try:\n",
        "  import bokeh\n",
        "except:\n",
        "  import os\n",
        "  pip.main(['install','bokeh'])\n"
      ],
      "metadata": {
        "id": "rKefADHoXYjj"
      },
      "execution_count": null,
      "outputs": []
    },
    {
      "cell_type": "code",
      "execution_count": null,
      "metadata": {
        "colab": {
          "base_uri": "https://localhost:8080/"
        },
        "id": "3XEuLf7EXRNT",
        "outputId": "c47756d6-b0f3-4860-ec06-2e1c4cbd2b84"
      },
      "outputs": [
        {
          "output_type": "stream",
          "name": "stderr",
          "text": [
            "BokehDeprecationWarning: 'WidgetBox' is deprecated and will be removed in Bokeh 3.0, use 'bokeh.models.Column' instead\n",
            "BokehDeprecationWarning: 'WidgetBox' is deprecated and will be removed in Bokeh 3.0, use 'bokeh.models.Column' instead\n"
          ]
        }
      ],
      "source": [
        "############ START BOILERPLATE ############\n",
        "#### Interactivity -- BOKEH\n",
        "import bokeh.plotting.figure as bk_figure\n",
        "from bokeh.io import curdoc, show\n",
        "from bokeh.layouts import row, widgetbox\n",
        "from bokeh.models import ColumnDataSource\n",
        "from bokeh.models.widgets import Slider, TextInput\n",
        "from bokeh.io import output_notebook # enables plot interface in J notebook\n",
        "import numpy as np\n",
        "# init bokeh\n",
        "\n",
        "from bokeh.application import Application\n",
        "from bokeh.application.handlers import FunctionHandler\n",
        "\n",
        "\n",
        "output_notebook()\n",
        "############ END BOILERPLATE ############\n",
        "\n",
        "# Set up data\n",
        "N = 200\n",
        "x = np.linspace(0, 4*np.pi, N)\n",
        "y = np.sin(x)\n",
        "source = ColumnDataSource(data=dict(x=x, y=y))\n",
        "\n",
        "# Set up plot\n",
        "plot = bk_figure(plot_height=400, plot_width=400, title=\"my sine wave\",\n",
        "              tools=\"crosshair,pan,reset,save,wheel_zoom\",\n",
        "              x_range=[0, 4*np.pi], y_range=[-2.5, 2.5])\n",
        "\n",
        "plot.line('x', 'y', source=source, line_width=3, line_alpha=0.6)\n",
        "\n",
        "# Set up widgets\n",
        "text = TextInput(title=\"title\", value='my sine wave')\n",
        "offset = Slider(title=\"offset\", value=0.0, start=-5.0, end=5.0, step=0.1)\n",
        "amplitude = Slider(title=\"amplitude\", value=1.0, start=-5.0, end=5.0, step=0.1)\n",
        "phase = Slider(title=\"phase\", value=0.0, start=0.0, end=2*np.pi)\n",
        "freq = Slider(title=\"frequency\", value=1.0, start=0.1, end=5.1, step=0.1)\n",
        "\n",
        "# Set up callbacks\n",
        "def update_title(attrname, old, new):\n",
        "    plot.title.text = text.value\n",
        "\n",
        "\n",
        "\n",
        "def update_data(attrname, old, new):\n",
        "    # Get the current slider values\n",
        "    a = amplitude.value\n",
        "    b = offset.value\n",
        "    w = phase.value\n",
        "    k = freq.value\n",
        "\n",
        "    # Generate the new curve\n",
        "    x = np.linspace(0, 4*np.pi, N)\n",
        "    y = a*np.sin(k*x + w) + b\n",
        "\n",
        "    source.data = dict(x=x, y=y)\n",
        "    ### I thought I might need a show() here, but it doesn't make a difference if I add one\n",
        "    # show(layout)\n",
        "\n",
        "for w in [offset, amplitude, phase, freq]:\n",
        "    w.on_change('value', update_data)\n",
        "\n",
        "\n",
        "# Set up layouts and add to document\n",
        "inputs = widgetbox(text, offset, amplitude, phase, freq)\n",
        "layout = row(plot,\n",
        "             widgetbox(text, offset, amplitude, phase, freq))\n",
        "\n",
        "\n",
        "\n",
        "def modify_doc(doc):\n",
        "    doc.add_root(row(layout, width=800))\n",
        "    doc.title = \"Sliders\"\n",
        "    text.on_change('value', update_title)\n",
        "\n",
        "\n"
      ]
    },
    {
      "cell_type": "code",
      "source": [
        "handler = FunctionHandler(modify_doc)\n",
        "app = Application(handler)\n",
        "show(app)"
      ],
      "metadata": {
        "colab": {
          "base_uri": "https://localhost:8080/"
        },
        "id": "DxtquFEOXYcv",
        "outputId": "d95974cc-9280-4a4c-e1b7-15f47351a79b"
      },
      "execution_count": null,
      "outputs": [
        {
          "output_type": "stream",
          "name": "stdout",
          "text": [
            "Bokeh show_app is currently unsupported\n"
          ]
        }
      ]
    },
    {
      "cell_type": "markdown",
      "source": [
        "# 新段落"
      ],
      "metadata": {
        "id": "dnWufdMij7hD"
      }
    },
    {
      "cell_type": "code",
      "source": [
        "from google.colab import drive\n",
        "drive.mount('/content/drive')"
      ],
      "metadata": {
        "id": "XrE38c1JkA93"
      },
      "execution_count": null,
      "outputs": []
    },
    {
      "cell_type": "markdown",
      "source": [
        "# 新段落"
      ],
      "metadata": {
        "id": "6SYfnYXCj7-v"
      }
    }
  ]
}